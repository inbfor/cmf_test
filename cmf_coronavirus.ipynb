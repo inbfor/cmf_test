{
 "cells": [
  {
   "cell_type": "code",
   "execution_count": 1,
   "metadata": {},
   "outputs": [],
   "source": [
    "import pandas as pd\n",
    "import numpy as np\n",
    "import statsmodels.api as sm\n",
    "import statsmodels.formula.api as smf\n",
    "from statsmodels.stats.diagnostic import het_breuschpagan\n",
    "from cvxopt import matrix\n",
    "import matplotlib.pyplot as plt"
   ]
  },
  {
   "cell_type": "code",
   "execution_count": 3,
   "metadata": {},
   "outputs": [],
   "source": [
    "data = pd.read_csv('https://covid.ourworldindata.org/data/owid-covid-data.csv', parse_dates=['date'])"
   ]
  },
  {
   "cell_type": "markdown",
   "metadata": {},
   "source": [
    "## Table of contents\n",
    "\n",
    "1. [Первое наблюдение - спортивные мероприятия в Великобритании увеличили количество зараженных.](#section1)\n",
    "2. [Второе наблюдение - отношение между бедностью и курением.](#section2)\n",
    "3. [Третье наблюдение - лотерея в Охайо не увеличила, а возможно и уменьшила темпы вакцинации](#section3)"
   ]
  },
  {
   "cell_type": "markdown",
   "metadata": {},
   "source": [
    "\n",
    "\n",
    "## Наблюдение первое — спортивные мероприятия в Великобритании увеличили количество зараженных. <a id=\"section1\"></a>\n",
    "\n"
   ]
  },
  {
   "cell_type": "markdown",
   "metadata": {},
   "source": [
    "Первым дело выбираем данные из Европы.\n"
   ]
  },
  {
   "cell_type": "code",
   "execution_count": 4,
   "metadata": {},
   "outputs": [],
   "source": [
    "data_europe = data.query('continent == \"Europe\"')"
   ]
  },
  {
   "cell_type": "markdown",
   "metadata": {},
   "source": [
    "Следующим делом выбрал treatment и контрольную группу — контрольная группа это Франция, treatment - UK."
   ]
  },
  {
   "cell_type": "code",
   "execution_count": 5,
   "metadata": {},
   "outputs": [],
   "source": [
    "uk = data_europe.query('location == \"United Kingdom\"')\n",
    "france = data_europe.query('location == \"France\"')"
   ]
  },
  {
   "cell_type": "markdown",
   "metadata": {},
   "source": [
    "Создаем dummy переменную для Великобритании."
   ]
  },
  {
   "cell_type": "code",
   "execution_count": 6,
   "metadata": {},
   "outputs": [],
   "source": [
    "uk_data = uk.query('date < \"2022-01-01\"').copy()\n",
    "uk_data['is_britain'] = 1\n",
    "uk_data['after'] = np.where(uk_data.date > '2021-05-01', 1, 0)"
   ]
  },
  {
   "cell_type": "code",
   "execution_count": 7,
   "metadata": {},
   "outputs": [],
   "source": [
    "france_data = france.query('date < \"2022-01-01\"').copy()\n",
    "france_data['is_britain'] = 0\n",
    "france_data['after'] = np.where(france_data.date > '2021-05-01', 1, 0)"
   ]
  },
  {
   "cell_type": "code",
   "execution_count": 8,
   "metadata": {},
   "outputs": [],
   "source": [
    "data_sport = pd.concat([uk_data[['new_cases', 'is_britain', 'after']], france_data[['new_cases', 'is_britain', 'after']]])"
   ]
  },
  {
   "cell_type": "code",
   "execution_count": 9,
   "metadata": {},
   "outputs": [
    {
     "data": {
      "text/html": [
       "<div>\n",
       "<style scoped>\n",
       "    .dataframe tbody tr th:only-of-type {\n",
       "        vertical-align: middle;\n",
       "    }\n",
       "\n",
       "    .dataframe tbody tr th {\n",
       "        vertical-align: top;\n",
       "    }\n",
       "\n",
       "    .dataframe thead th {\n",
       "        text-align: right;\n",
       "    }\n",
       "</style>\n",
       "<table border=\"1\" class=\"dataframe\">\n",
       "  <thead>\n",
       "    <tr style=\"text-align: right;\">\n",
       "      <th></th>\n",
       "      <th>new_cases</th>\n",
       "      <th>is_britain</th>\n",
       "      <th>after</th>\n",
       "    </tr>\n",
       "  </thead>\n",
       "  <tbody>\n",
       "    <tr>\n",
       "      <th>178120</th>\n",
       "      <td>2.0</td>\n",
       "      <td>1</td>\n",
       "      <td>0</td>\n",
       "    </tr>\n",
       "    <tr>\n",
       "      <th>178121</th>\n",
       "      <td>0.0</td>\n",
       "      <td>1</td>\n",
       "      <td>0</td>\n",
       "    </tr>\n",
       "    <tr>\n",
       "      <th>178122</th>\n",
       "      <td>0.0</td>\n",
       "      <td>1</td>\n",
       "      <td>0</td>\n",
       "    </tr>\n",
       "    <tr>\n",
       "      <th>178123</th>\n",
       "      <td>6.0</td>\n",
       "      <td>1</td>\n",
       "      <td>0</td>\n",
       "    </tr>\n",
       "    <tr>\n",
       "      <th>178124</th>\n",
       "      <td>0.0</td>\n",
       "      <td>1</td>\n",
       "      <td>0</td>\n",
       "    </tr>\n",
       "    <tr>\n",
       "      <th>...</th>\n",
       "      <td>...</td>\n",
       "      <td>...</td>\n",
       "      <td>...</td>\n",
       "    </tr>\n",
       "    <tr>\n",
       "      <th>60753</th>\n",
       "      <td>30459.0</td>\n",
       "      <td>0</td>\n",
       "      <td>1</td>\n",
       "    </tr>\n",
       "    <tr>\n",
       "      <th>60754</th>\n",
       "      <td>179808.0</td>\n",
       "      <td>0</td>\n",
       "      <td>1</td>\n",
       "    </tr>\n",
       "    <tr>\n",
       "      <th>60755</th>\n",
       "      <td>208099.0</td>\n",
       "      <td>0</td>\n",
       "      <td>1</td>\n",
       "    </tr>\n",
       "    <tr>\n",
       "      <th>60756</th>\n",
       "      <td>206544.0</td>\n",
       "      <td>0</td>\n",
       "      <td>1</td>\n",
       "    </tr>\n",
       "    <tr>\n",
       "      <th>60757</th>\n",
       "      <td>232200.0</td>\n",
       "      <td>0</td>\n",
       "      <td>1</td>\n",
       "    </tr>\n",
       "  </tbody>\n",
       "</table>\n",
       "<p>1409 rows × 3 columns</p>\n",
       "</div>"
      ],
      "text/plain": [
       "        new_cases  is_britain  after\n",
       "178120        2.0           1      0\n",
       "178121        0.0           1      0\n",
       "178122        0.0           1      0\n",
       "178123        6.0           1      0\n",
       "178124        0.0           1      0\n",
       "...           ...         ...    ...\n",
       "60753     30459.0           0      1\n",
       "60754    179808.0           0      1\n",
       "60755    208099.0           0      1\n",
       "60756    206544.0           0      1\n",
       "60757    232200.0           0      1\n",
       "\n",
       "[1409 rows x 3 columns]"
      ]
     },
     "execution_count": 9,
     "metadata": {},
     "output_type": "execute_result"
    }
   ],
   "source": [
    "data_sport"
   ]
  },
  {
   "cell_type": "markdown",
   "metadata": {},
   "source": [
    "Проведем diff-in-diff."
   ]
  },
  {
   "cell_type": "code",
   "execution_count": 10,
   "metadata": {},
   "outputs": [
    {
     "data": {
      "text/html": [
       "<table class=\"simpletable\">\n",
       "<caption>OLS Regression Results</caption>\n",
       "<tr>\n",
       "  <th>Dep. Variable:</th>        <td>new_cases</td>    <th>  R-squared:         </th> <td>   0.154</td> \n",
       "</tr>\n",
       "<tr>\n",
       "  <th>Model:</th>                   <td>OLS</td>       <th>  Adj. R-squared:    </th> <td>   0.152</td> \n",
       "</tr>\n",
       "<tr>\n",
       "  <th>Method:</th>             <td>Least Squares</td>  <th>  F-statistic:       </th> <td>   84.52</td> \n",
       "</tr>\n",
       "<tr>\n",
       "  <th>Date:</th>             <td>Sun, 29 May 2022</td> <th>  Prob (F-statistic):</th> <td>3.07e-50</td> \n",
       "</tr>\n",
       "<tr>\n",
       "  <th>Time:</th>                 <td>13:44:21</td>     <th>  Log-Likelihood:    </th> <td> -15898.</td> \n",
       "</tr>\n",
       "<tr>\n",
       "  <th>No. Observations:</th>      <td>  1397</td>      <th>  AIC:               </th> <td>3.180e+04</td>\n",
       "</tr>\n",
       "<tr>\n",
       "  <th>Df Residuals:</th>          <td>  1393</td>      <th>  BIC:               </th> <td>3.183e+04</td>\n",
       "</tr>\n",
       "<tr>\n",
       "  <th>Df Model:</th>              <td>     3</td>      <th>                     </th>     <td> </td>    \n",
       "</tr>\n",
       "<tr>\n",
       "  <th>Covariance Type:</th>      <td>nonrobust</td>    <th>                     </th>     <td> </td>    \n",
       "</tr>\n",
       "</table>\n",
       "<table class=\"simpletable\">\n",
       "<tr>\n",
       "          <td></td>            <th>coef</th>     <th>std err</th>      <th>t</th>      <th>P>|t|</th>  <th>[0.025</th>    <th>0.975]</th>  \n",
       "</tr>\n",
       "<tr>\n",
       "  <th>Intercept</th>        <td> 1.266e+04</td> <td>  994.725</td> <td>   12.724</td> <td> 0.000</td> <td> 1.07e+04</td> <td> 1.46e+04</td>\n",
       "</tr>\n",
       "<tr>\n",
       "  <th>is_britain</th>       <td>-2947.9523</td> <td> 1405.982</td> <td>   -2.097</td> <td> 0.036</td> <td>-5706.022</td> <td> -189.882</td>\n",
       "</tr>\n",
       "<tr>\n",
       "  <th>after</th>            <td> 6613.2263</td> <td> 1685.883</td> <td>    3.923</td> <td> 0.000</td> <td> 3306.082</td> <td> 9920.370</td>\n",
       "</tr>\n",
       "<tr>\n",
       "  <th>is_britain:after</th> <td> 1.884e+04</td> <td> 2383.744</td> <td>    7.903</td> <td> 0.000</td> <td> 1.42e+04</td> <td> 2.35e+04</td>\n",
       "</tr>\n",
       "</table>\n",
       "<table class=\"simpletable\">\n",
       "<tr>\n",
       "  <th>Omnibus:</th>       <td>1192.898</td> <th>  Durbin-Watson:     </th> <td>   0.318</td> \n",
       "</tr>\n",
       "<tr>\n",
       "  <th>Prob(Omnibus):</th>  <td> 0.000</td>  <th>  Jarque-Bera (JB):  </th> <td>40842.446</td>\n",
       "</tr>\n",
       "<tr>\n",
       "  <th>Skew:</th>           <td> 3.829</td>  <th>  Prob(JB):          </th> <td>    0.00</td> \n",
       "</tr>\n",
       "<tr>\n",
       "  <th>Kurtosis:</th>       <td>28.358</td>  <th>  Cond. No.          </th> <td>    6.33</td> \n",
       "</tr>\n",
       "</table><br/><br/>Notes:<br/>[1] Standard Errors assume that the covariance matrix of the errors is correctly specified."
      ],
      "text/plain": [
       "<class 'statsmodels.iolib.summary.Summary'>\n",
       "\"\"\"\n",
       "                            OLS Regression Results                            \n",
       "==============================================================================\n",
       "Dep. Variable:              new_cases   R-squared:                       0.154\n",
       "Model:                            OLS   Adj. R-squared:                  0.152\n",
       "Method:                 Least Squares   F-statistic:                     84.52\n",
       "Date:                Sun, 29 May 2022   Prob (F-statistic):           3.07e-50\n",
       "Time:                        13:44:21   Log-Likelihood:                -15898.\n",
       "No. Observations:                1397   AIC:                         3.180e+04\n",
       "Df Residuals:                    1393   BIC:                         3.183e+04\n",
       "Df Model:                           3                                         \n",
       "Covariance Type:            nonrobust                                         \n",
       "====================================================================================\n",
       "                       coef    std err          t      P>|t|      [0.025      0.975]\n",
       "------------------------------------------------------------------------------------\n",
       "Intercept         1.266e+04    994.725     12.724      0.000    1.07e+04    1.46e+04\n",
       "is_britain       -2947.9523   1405.982     -2.097      0.036   -5706.022    -189.882\n",
       "after             6613.2263   1685.883      3.923      0.000    3306.082    9920.370\n",
       "is_britain:after  1.884e+04   2383.744      7.903      0.000    1.42e+04    2.35e+04\n",
       "==============================================================================\n",
       "Omnibus:                     1192.898   Durbin-Watson:                   0.318\n",
       "Prob(Omnibus):                  0.000   Jarque-Bera (JB):            40842.446\n",
       "Skew:                           3.829   Prob(JB):                         0.00\n",
       "Kurtosis:                      28.358   Cond. No.                         6.33\n",
       "==============================================================================\n",
       "\n",
       "Notes:\n",
       "[1] Standard Errors assume that the covariance matrix of the errors is correctly specified.\n",
       "\"\"\""
      ]
     },
     "execution_count": 10,
     "metadata": {},
     "output_type": "execute_result"
    }
   ],
   "source": [
    "before_stadium = data_sport.query('is_britain == 1 and after == 0').new_cases.mean()\n",
    "before_nostadium = data_sport.query('is_britain == 0 and after == 0').new_cases.mean()\n",
    "after_stadium = data_sport.query('is_britain == 1 and after == 1').new_cases.mean()\n",
    "after_nostadium = data_sport.query('is_britain == 0 and after == 1').new_cases.mean()\n",
    "\n",
    "diff_in_diff = (after_stadium - before_stadium) - (after_nostadium - before_nostadium)\n",
    "\n",
    "diff_in_diff2 = smf.ols(formula='new_cases ~ is_britain*after', data=data_sport).fit().summary()\n",
    "diff_in_diff2"
   ]
  },
  {
   "cell_type": "markdown",
   "metadata": {},
   "source": [
    "*R-squared adjusted* не самый большой, но объясняющую силу имеет."
   ]
  },
  {
   "cell_type": "markdown",
   "metadata": {},
   "source": [
    "Нарисуем график."
   ]
  },
  {
   "cell_type": "code",
   "execution_count": 11,
   "metadata": {},
   "outputs": [
    {
     "data": {
      "text/plain": [
       "<matplotlib.legend.Legend at 0x1e457939a00>"
      ]
     },
     "execution_count": 11,
     "metadata": {},
     "output_type": "execute_result"
    },
    {
     "data": {
      "image/png": "[encoded data removed]",
      "text/plain": [
       "<Figure size 1440x720 with 1 Axes>"
      ]
     },
     "metadata": {
      "needs_background": "light"
     },
     "output_type": "display_data"
    }
   ],
   "source": [
    "plt.figure(figsize=(20,10))\n",
    "\n",
    "plt.plot(['2021-04-25', '2022-01-01'] , [before_stadium, after_stadium], label='Uk')\n",
    "plt.plot(['2021-04-25', '2022-01-01'] , [before_nostadium, after_nostadium], label = 'France')\n",
    "plt.plot(['2021-04-25', '2022-01-01'], [before_stadium, before_stadium +(after_nostadium - before_nostadium)], label=\"Counterfactual\", lw=2, color=\"C2\", ls=\"-.\")\n",
    "plt.legend()"
   ]
  },
  {
   "cell_type": "markdown",
   "metadata": {},
   "source": [
    "Вывод - есть связь между количеством зараженных и спортивными мероприятиями, проводившимися в 2021 году."
   ]
  },
  {
   "cell_type": "markdown",
   "metadata": {},
   "source": [
    "## Наблюдение 2 - отношение между бедностью и курением. <a id=\"section2\">"
   ]
  },
  {
   "cell_type": "markdown",
   "metadata": {},
   "source": [
    "Выбираем данные:"
   ]
  },
  {
   "cell_type": "code",
   "execution_count": 12,
   "metadata": {},
   "outputs": [
    {
     "data": {
      "text/html": [
       "<div>\n",
       "<style scoped>\n",
       "    .dataframe tbody tr th:only-of-type {\n",
       "        vertical-align: middle;\n",
       "    }\n",
       "\n",
       "    .dataframe tbody tr th {\n",
       "        vertical-align: top;\n",
       "    }\n",
       "\n",
       "    .dataframe thead th {\n",
       "        text-align: right;\n",
       "    }\n",
       "</style>\n",
       "<table border=\"1\" class=\"dataframe\">\n",
       "  <thead>\n",
       "    <tr style=\"text-align: right;\">\n",
       "      <th></th>\n",
       "      <th>location</th>\n",
       "      <th>extreme_poverty</th>\n",
       "      <th>female_smokers</th>\n",
       "      <th>male_smokers</th>\n",
       "    </tr>\n",
       "  </thead>\n",
       "  <tbody>\n",
       "    <tr>\n",
       "      <th>1661</th>\n",
       "      <td>Albania</td>\n",
       "      <td>1.1</td>\n",
       "      <td>7.100</td>\n",
       "      <td>51.200</td>\n",
       "    </tr>\n",
       "    <tr>\n",
       "      <th>2485</th>\n",
       "      <td>Algeria</td>\n",
       "      <td>0.5</td>\n",
       "      <td>0.700</td>\n",
       "      <td>30.400</td>\n",
       "    </tr>\n",
       "    <tr>\n",
       "      <th>6526</th>\n",
       "      <td>Argentina</td>\n",
       "      <td>0.6</td>\n",
       "      <td>16.200</td>\n",
       "      <td>27.700</td>\n",
       "    </tr>\n",
       "    <tr>\n",
       "      <th>7405</th>\n",
       "      <td>Armenia</td>\n",
       "      <td>1.8</td>\n",
       "      <td>1.500</td>\n",
       "      <td>52.100</td>\n",
       "    </tr>\n",
       "    <tr>\n",
       "      <th>9916</th>\n",
       "      <td>Australia</td>\n",
       "      <td>0.5</td>\n",
       "      <td>13.000</td>\n",
       "      <td>16.500</td>\n",
       "    </tr>\n",
       "    <tr>\n",
       "      <th>...</th>\n",
       "      <td>...</td>\n",
       "      <td>...</td>\n",
       "      <td>...</td>\n",
       "      <td>...</td>\n",
       "    </tr>\n",
       "    <tr>\n",
       "      <th>185271</th>\n",
       "      <td>Vietnam</td>\n",
       "      <td>2.0</td>\n",
       "      <td>1.000</td>\n",
       "      <td>45.900</td>\n",
       "    </tr>\n",
       "    <tr>\n",
       "      <th>186716</th>\n",
       "      <td>World</td>\n",
       "      <td>10.0</td>\n",
       "      <td>6.434</td>\n",
       "      <td>34.635</td>\n",
       "    </tr>\n",
       "    <tr>\n",
       "      <th>187574</th>\n",
       "      <td>Yemen</td>\n",
       "      <td>18.8</td>\n",
       "      <td>7.600</td>\n",
       "      <td>29.200</td>\n",
       "    </tr>\n",
       "    <tr>\n",
       "      <th>188353</th>\n",
       "      <td>Zambia</td>\n",
       "      <td>57.5</td>\n",
       "      <td>3.100</td>\n",
       "      <td>24.700</td>\n",
       "    </tr>\n",
       "    <tr>\n",
       "      <th>189155</th>\n",
       "      <td>Zimbabwe</td>\n",
       "      <td>21.4</td>\n",
       "      <td>1.600</td>\n",
       "      <td>30.700</td>\n",
       "    </tr>\n",
       "  </tbody>\n",
       "</table>\n",
       "<p>100 rows × 4 columns</p>\n",
       "</div>"
      ],
      "text/plain": [
       "         location  extreme_poverty  female_smokers  male_smokers\n",
       "1661      Albania              1.1           7.100        51.200\n",
       "2485      Algeria              0.5           0.700        30.400\n",
       "6526    Argentina              0.6          16.200        27.700\n",
       "7405      Armenia              1.8           1.500        52.100\n",
       "9916    Australia              0.5          13.000        16.500\n",
       "...           ...              ...             ...           ...\n",
       "185271    Vietnam              2.0           1.000        45.900\n",
       "186716      World             10.0           6.434        34.635\n",
       "187574      Yemen             18.8           7.600        29.200\n",
       "188353     Zambia             57.5           3.100        24.700\n",
       "189155   Zimbabwe             21.4           1.600        30.700\n",
       "\n",
       "[100 rows x 4 columns]"
      ]
     },
     "execution_count": 12,
     "metadata": {},
     "output_type": "execute_result"
    }
   ],
   "source": [
    "data_extreme_poverty_smokers = data[['location', 'extreme_poverty', 'female_smokers', 'male_smokers']].dropna().drop_duplicates()\n",
    "data_extreme_poverty_smokers"
   ]
  },
  {
   "cell_type": "markdown",
   "metadata": {},
   "source": [
    "Построим линейную регрессию, где зависимой переменной будет мужчину-курильщики, а независимой - экстремальная бедность."
   ]
  },
  {
   "cell_type": "code",
   "execution_count": 13,
   "metadata": {},
   "outputs": [
    {
     "data": {
      "text/html": [
       "<table class=\"simpletable\">\n",
       "<caption>OLS Regression Results</caption>\n",
       "<tr>\n",
       "  <th>Dep. Variable:</th>      <td>male_smokers</td>   <th>  R-squared:         </th> <td>   0.037</td>\n",
       "</tr>\n",
       "<tr>\n",
       "  <th>Model:</th>                   <td>OLS</td>       <th>  Adj. R-squared:    </th> <td>   0.027</td>\n",
       "</tr>\n",
       "<tr>\n",
       "  <th>Method:</th>             <td>Least Squares</td>  <th>  F-statistic:       </th> <td>   3.764</td>\n",
       "</tr>\n",
       "<tr>\n",
       "  <th>Date:</th>             <td>Sun, 29 May 2022</td> <th>  Prob (F-statistic):</th>  <td>0.0552</td> \n",
       "</tr>\n",
       "<tr>\n",
       "  <th>Time:</th>                 <td>13:44:22</td>     <th>  Log-Likelihood:    </th> <td> -406.16</td>\n",
       "</tr>\n",
       "<tr>\n",
       "  <th>No. Observations:</th>      <td>   100</td>      <th>  AIC:               </th> <td>   816.3</td>\n",
       "</tr>\n",
       "<tr>\n",
       "  <th>Df Residuals:</th>          <td>    98</td>      <th>  BIC:               </th> <td>   821.5</td>\n",
       "</tr>\n",
       "<tr>\n",
       "  <th>Df Model:</th>              <td>     1</td>      <th>                     </th>     <td> </td>   \n",
       "</tr>\n",
       "<tr>\n",
       "  <th>Covariance Type:</th>      <td>nonrobust</td>    <th>                     </th>     <td> </td>   \n",
       "</tr>\n",
       "</table>\n",
       "<table class=\"simpletable\">\n",
       "<tr>\n",
       "         <td></td>            <th>coef</th>     <th>std err</th>      <th>t</th>      <th>P>|t|</th>  <th>[0.025</th>    <th>0.975]</th>  \n",
       "</tr>\n",
       "<tr>\n",
       "  <th>Intercept</th>       <td>   34.8192</td> <td>    1.696</td> <td>   20.528</td> <td> 0.000</td> <td>   31.453</td> <td>   38.185</td>\n",
       "</tr>\n",
       "<tr>\n",
       "  <th>extreme_poverty</th> <td>   -0.1520</td> <td>    0.078</td> <td>   -1.940</td> <td> 0.055</td> <td>   -0.307</td> <td>    0.003</td>\n",
       "</tr>\n",
       "</table>\n",
       "<table class=\"simpletable\">\n",
       "<tr>\n",
       "  <th>Omnibus:</th>       <td> 9.810</td> <th>  Durbin-Watson:     </th> <td>   2.334</td>\n",
       "</tr>\n",
       "<tr>\n",
       "  <th>Prob(Omnibus):</th> <td> 0.007</td> <th>  Jarque-Bera (JB):  </th> <td>   9.738</td>\n",
       "</tr>\n",
       "<tr>\n",
       "  <th>Skew:</th>          <td> 0.687</td> <th>  Prob(JB):          </th> <td> 0.00768</td>\n",
       "</tr>\n",
       "<tr>\n",
       "  <th>Kurtosis:</th>      <td> 3.671</td> <th>  Cond. No.          </th> <td>    25.9</td>\n",
       "</tr>\n",
       "</table><br/><br/>Notes:<br/>[1] Standard Errors assume that the covariance matrix of the errors is correctly specified."
      ],
      "text/plain": [
       "<class 'statsmodels.iolib.summary.Summary'>\n",
       "\"\"\"\n",
       "                            OLS Regression Results                            \n",
       "==============================================================================\n",
       "Dep. Variable:           male_smokers   R-squared:                       0.037\n",
       "Model:                            OLS   Adj. R-squared:                  0.027\n",
       "Method:                 Least Squares   F-statistic:                     3.764\n",
       "Date:                Sun, 29 May 2022   Prob (F-statistic):             0.0552\n",
       "Time:                        13:44:22   Log-Likelihood:                -406.16\n",
       "No. Observations:                 100   AIC:                             816.3\n",
       "Df Residuals:                      98   BIC:                             821.5\n",
       "Df Model:                           1                                         \n",
       "Covariance Type:            nonrobust                                         \n",
       "===================================================================================\n",
       "                      coef    std err          t      P>|t|      [0.025      0.975]\n",
       "-----------------------------------------------------------------------------------\n",
       "Intercept          34.8192      1.696     20.528      0.000      31.453      38.185\n",
       "extreme_poverty    -0.1520      0.078     -1.940      0.055      -0.307       0.003\n",
       "==============================================================================\n",
       "Omnibus:                        9.810   Durbin-Watson:                   2.334\n",
       "Prob(Omnibus):                  0.007   Jarque-Bera (JB):                9.738\n",
       "Skew:                           0.687   Prob(JB):                      0.00768\n",
       "Kurtosis:                       3.671   Cond. No.                         25.9\n",
       "==============================================================================\n",
       "\n",
       "Notes:\n",
       "[1] Standard Errors assume that the covariance matrix of the errors is correctly specified.\n",
       "\"\"\""
      ]
     },
     "execution_count": 13,
     "metadata": {},
     "output_type": "execute_result"
    }
   ],
   "source": [
    "res = smf.ols('male_smokers ~ 1 + extreme_poverty', data=data_extreme_poverty_smokers).fit()\n",
    "res.summary()"
   ]
  },
  {
   "cell_type": "markdown",
   "metadata": {},
   "source": [
    "p > 0.05, результат статистически не значим, связь найти не удалось."
   ]
  },
  {
   "cell_type": "markdown",
   "metadata": {},
   "source": [
    "Дальше находим связь между женщинами курильщиками и бедностью."
   ]
  },
  {
   "cell_type": "code",
   "execution_count": 14,
   "metadata": {},
   "outputs": [
    {
     "data": {
      "text/html": [
       "<table class=\"simpletable\">\n",
       "<caption>OLS Regression Results</caption>\n",
       "<tr>\n",
       "  <th>Dep. Variable:</th>     <td>female_smokers</td>  <th>  R-squared:         </th> <td>   0.171</td>\n",
       "</tr>\n",
       "<tr>\n",
       "  <th>Model:</th>                   <td>OLS</td>       <th>  Adj. R-squared:    </th> <td>   0.163</td>\n",
       "</tr>\n",
       "<tr>\n",
       "  <th>Method:</th>             <td>Least Squares</td>  <th>  F-statistic:       </th> <td>   20.27</td>\n",
       "</tr>\n",
       "<tr>\n",
       "  <th>Date:</th>             <td>Sun, 29 May 2022</td> <th>  Prob (F-statistic):</th> <td>1.85e-05</td>\n",
       "</tr>\n",
       "<tr>\n",
       "  <th>Time:</th>                 <td>13:44:22</td>     <th>  Log-Likelihood:    </th> <td> -364.27</td>\n",
       "</tr>\n",
       "<tr>\n",
       "  <th>No. Observations:</th>      <td>   100</td>      <th>  AIC:               </th> <td>   732.5</td>\n",
       "</tr>\n",
       "<tr>\n",
       "  <th>Df Residuals:</th>          <td>    98</td>      <th>  BIC:               </th> <td>   737.7</td>\n",
       "</tr>\n",
       "<tr>\n",
       "  <th>Df Model:</th>              <td>     1</td>      <th>                     </th>     <td> </td>   \n",
       "</tr>\n",
       "<tr>\n",
       "  <th>Covariance Type:</th>      <td>nonrobust</td>    <th>                     </th>     <td> </td>   \n",
       "</tr>\n",
       "</table>\n",
       "<table class=\"simpletable\">\n",
       "<tr>\n",
       "         <td></td>            <th>coef</th>     <th>std err</th>      <th>t</th>      <th>P>|t|</th>  <th>[0.025</th>    <th>0.975]</th>  \n",
       "</tr>\n",
       "<tr>\n",
       "  <th>Intercept</th>       <td>   12.8839</td> <td>    1.116</td> <td>   11.548</td> <td> 0.000</td> <td>   10.670</td> <td>   15.098</td>\n",
       "</tr>\n",
       "<tr>\n",
       "  <th>extreme_poverty</th> <td>   -0.2320</td> <td>    0.052</td> <td>   -4.503</td> <td> 0.000</td> <td>   -0.334</td> <td>   -0.130</td>\n",
       "</tr>\n",
       "</table>\n",
       "<table class=\"simpletable\">\n",
       "<tr>\n",
       "  <th>Omnibus:</th>       <td>12.225</td> <th>  Durbin-Watson:     </th> <td>   2.258</td>\n",
       "</tr>\n",
       "<tr>\n",
       "  <th>Prob(Omnibus):</th> <td> 0.002</td> <th>  Jarque-Bera (JB):  </th> <td>  12.980</td>\n",
       "</tr>\n",
       "<tr>\n",
       "  <th>Skew:</th>          <td> 0.860</td> <th>  Prob(JB):          </th> <td> 0.00152</td>\n",
       "</tr>\n",
       "<tr>\n",
       "  <th>Kurtosis:</th>      <td> 3.395</td> <th>  Cond. No.          </th> <td>    25.9</td>\n",
       "</tr>\n",
       "</table><br/><br/>Notes:<br/>[1] Standard Errors assume that the covariance matrix of the errors is correctly specified."
      ],
      "text/plain": [
       "<class 'statsmodels.iolib.summary.Summary'>\n",
       "\"\"\"\n",
       "                            OLS Regression Results                            \n",
       "==============================================================================\n",
       "Dep. Variable:         female_smokers   R-squared:                       0.171\n",
       "Model:                            OLS   Adj. R-squared:                  0.163\n",
       "Method:                 Least Squares   F-statistic:                     20.27\n",
       "Date:                Sun, 29 May 2022   Prob (F-statistic):           1.85e-05\n",
       "Time:                        13:44:22   Log-Likelihood:                -364.27\n",
       "No. Observations:                 100   AIC:                             732.5\n",
       "Df Residuals:                      98   BIC:                             737.7\n",
       "Df Model:                           1                                         \n",
       "Covariance Type:            nonrobust                                         \n",
       "===================================================================================\n",
       "                      coef    std err          t      P>|t|      [0.025      0.975]\n",
       "-----------------------------------------------------------------------------------\n",
       "Intercept          12.8839      1.116     11.548      0.000      10.670      15.098\n",
       "extreme_poverty    -0.2320      0.052     -4.503      0.000      -0.334      -0.130\n",
       "==============================================================================\n",
       "Omnibus:                       12.225   Durbin-Watson:                   2.258\n",
       "Prob(Omnibus):                  0.002   Jarque-Bera (JB):               12.980\n",
       "Skew:                           0.860   Prob(JB):                      0.00152\n",
       "Kurtosis:                       3.395   Cond. No.                         25.9\n",
       "==============================================================================\n",
       "\n",
       "Notes:\n",
       "[1] Standard Errors assume that the covariance matrix of the errors is correctly specified.\n",
       "\"\"\""
      ]
     },
     "execution_count": 14,
     "metadata": {},
     "output_type": "execute_result"
    }
   ],
   "source": [
    "res = smf.ols('female_smokers ~ extreme_poverty', data=data_extreme_poverty_smokers).fit()\n",
    "res.summary()"
   ]
  },
  {
   "cell_type": "markdown",
   "metadata": {},
   "source": [
    "Есть четкая негативная связь между женщинами-курильщиками и экстремальной бедностью."
   ]
  },
  {
   "cell_type": "markdown",
   "metadata": {},
   "source": [
    "Но перед тем как утверждать об этом с уверенностью, проверим на гетероскедастичность модели - используем для этого тест Бройша-Пагана."
   ]
  },
  {
   "cell_type": "code",
   "execution_count": 15,
   "metadata": {},
   "outputs": [
    {
     "data": {
      "text/plain": [
       "(8.257368317321134,\n",
       " 0.004058692259655728,\n",
       " 8.820567714870263,\n",
       " 0.003745480055898135)"
      ]
     },
     "execution_count": 15,
     "metadata": {},
     "output_type": "execute_result"
    }
   ],
   "source": [
    "test = het_breuschpagan(res.resid, res.model.exog)\n",
    "test"
   ]
  },
  {
   "cell_type": "markdown",
   "metadata": {},
   "source": [
    "p < 0.05, значит модель гетероскедастична - попытаемся от гетероскедастичности избавиться."
   ]
  },
  {
   "cell_type": "code",
   "execution_count": 16,
   "metadata": {},
   "outputs": [],
   "source": [
    "data_extreme_poverty_smokers.female_smokers = data_extreme_poverty_smokers.female_smokers.apply(lambda x: np.log(x))"
   ]
  },
  {
   "cell_type": "code",
   "execution_count": 17,
   "metadata": {},
   "outputs": [],
   "source": [
    "res = smf.wls('female_smokers ~ extreme_poverty',data=data_extreme_poverty_smokers).fit()"
   ]
  },
  {
   "cell_type": "code",
   "execution_count": 18,
   "metadata": {},
   "outputs": [
    {
     "data": {
      "text/html": [
       "<table class=\"simpletable\">\n",
       "<caption>WLS Regression Results</caption>\n",
       "<tr>\n",
       "  <th>Dep. Variable:</th>     <td>female_smokers</td>  <th>  R-squared:         </th> <td>   0.170</td>\n",
       "</tr>\n",
       "<tr>\n",
       "  <th>Model:</th>                   <td>WLS</td>       <th>  Adj. R-squared:    </th> <td>   0.162</td>\n",
       "</tr>\n",
       "<tr>\n",
       "  <th>Method:</th>             <td>Least Squares</td>  <th>  F-statistic:       </th> <td>   20.08</td>\n",
       "</tr>\n",
       "<tr>\n",
       "  <th>Date:</th>             <td>Sun, 29 May 2022</td> <th>  Prob (F-statistic):</th> <td>2.02e-05</td>\n",
       "</tr>\n",
       "<tr>\n",
       "  <th>Time:</th>                 <td>13:44:23</td>     <th>  Log-Likelihood:    </th> <td> -164.29</td>\n",
       "</tr>\n",
       "<tr>\n",
       "  <th>No. Observations:</th>      <td>   100</td>      <th>  AIC:               </th> <td>   332.6</td>\n",
       "</tr>\n",
       "<tr>\n",
       "  <th>Df Residuals:</th>          <td>    98</td>      <th>  BIC:               </th> <td>   337.8</td>\n",
       "</tr>\n",
       "<tr>\n",
       "  <th>Df Model:</th>              <td>     1</td>      <th>                     </th>     <td> </td>   \n",
       "</tr>\n",
       "<tr>\n",
       "  <th>Covariance Type:</th>      <td>nonrobust</td>    <th>                     </th>     <td> </td>   \n",
       "</tr>\n",
       "</table>\n",
       "<table class=\"simpletable\">\n",
       "<tr>\n",
       "         <td></td>            <th>coef</th>     <th>std err</th>      <th>t</th>      <th>P>|t|</th>  <th>[0.025</th>    <th>0.975]</th>  \n",
       "</tr>\n",
       "<tr>\n",
       "  <th>Intercept</th>       <td>    1.9915</td> <td>    0.151</td> <td>   13.186</td> <td> 0.000</td> <td>    1.692</td> <td>    2.291</td>\n",
       "</tr>\n",
       "<tr>\n",
       "  <th>extreme_poverty</th> <td>   -0.0313</td> <td>    0.007</td> <td>   -4.481</td> <td> 0.000</td> <td>   -0.045</td> <td>   -0.017</td>\n",
       "</tr>\n",
       "</table>\n",
       "<table class=\"simpletable\">\n",
       "<tr>\n",
       "  <th>Omnibus:</th>       <td> 8.686</td> <th>  Durbin-Watson:     </th> <td>   2.341</td>\n",
       "</tr>\n",
       "<tr>\n",
       "  <th>Prob(Omnibus):</th> <td> 0.013</td> <th>  Jarque-Bera (JB):  </th> <td>   9.322</td>\n",
       "</tr>\n",
       "<tr>\n",
       "  <th>Skew:</th>          <td>-0.743</td> <th>  Prob(JB):          </th> <td> 0.00946</td>\n",
       "</tr>\n",
       "<tr>\n",
       "  <th>Kurtosis:</th>      <td> 2.827</td> <th>  Cond. No.          </th> <td>    25.9</td>\n",
       "</tr>\n",
       "</table><br/><br/>Notes:<br/>[1] Standard Errors assume that the covariance matrix of the errors is correctly specified."
      ],
      "text/plain": [
       "<class 'statsmodels.iolib.summary.Summary'>\n",
       "\"\"\"\n",
       "                            WLS Regression Results                            \n",
       "==============================================================================\n",
       "Dep. Variable:         female_smokers   R-squared:                       0.170\n",
       "Model:                            WLS   Adj. R-squared:                  0.162\n",
       "Method:                 Least Squares   F-statistic:                     20.08\n",
       "Date:                Sun, 29 May 2022   Prob (F-statistic):           2.02e-05\n",
       "Time:                        13:44:23   Log-Likelihood:                -164.29\n",
       "No. Observations:                 100   AIC:                             332.6\n",
       "Df Residuals:                      98   BIC:                             337.8\n",
       "Df Model:                           1                                         \n",
       "Covariance Type:            nonrobust                                         \n",
       "===================================================================================\n",
       "                      coef    std err          t      P>|t|      [0.025      0.975]\n",
       "-----------------------------------------------------------------------------------\n",
       "Intercept           1.9915      0.151     13.186      0.000       1.692       2.291\n",
       "extreme_poverty    -0.0313      0.007     -4.481      0.000      -0.045      -0.017\n",
       "==============================================================================\n",
       "Omnibus:                        8.686   Durbin-Watson:                   2.341\n",
       "Prob(Omnibus):                  0.013   Jarque-Bera (JB):                9.322\n",
       "Skew:                          -0.743   Prob(JB):                      0.00946\n",
       "Kurtosis:                       2.827   Cond. No.                         25.9\n",
       "==============================================================================\n",
       "\n",
       "Notes:\n",
       "[1] Standard Errors assume that the covariance matrix of the errors is correctly specified.\n",
       "\"\"\""
      ]
     },
     "execution_count": 18,
     "metadata": {},
     "output_type": "execute_result"
    }
   ],
   "source": [
    "res.summary()"
   ]
  },
  {
   "cell_type": "markdown",
   "metadata": {},
   "source": [
    "Негативная связь остается даже после логарифмирования - проверим на гетероскедастичность."
   ]
  },
  {
   "cell_type": "code",
   "execution_count": 19,
   "metadata": {},
   "outputs": [
    {
     "data": {
      "text/plain": [
       "(0.0017981289061386185,\n",
       " 0.9661763606038181,\n",
       " 0.0017621980146077351,\n",
       " 0.9666012123371316)"
      ]
     },
     "execution_count": 19,
     "metadata": {},
     "output_type": "execute_result"
    }
   ],
   "source": [
    "test = het_breuschpagan(res.resid, res.model.exog)\n",
    "test"
   ]
  },
  {
   "cell_type": "markdown",
   "metadata": {},
   "source": [
    "Вывод — мужчины-курильщики и экстремальная бедность не коррелируют никак, тогда как женщины-курильщики и экстремальная бедность связаны негативно."
   ]
  },
  {
   "cell_type": "markdown",
   "metadata": {},
   "source": [
    "## Наблюдение 3 - лотерея в Охайо не увеличила, а возможно и уменьшила темпы вакцинации. <a id='section3'></a>"
   ]
  },
  {
   "cell_type": "markdown",
   "metadata": {},
   "source": [
    "*Очень вольное воспроизведение результатов статьи*.\n",
    "\n",
    "*https://www.cambridge.org/core/journals/journal-of-experimental-political-science/article/did-ohios-vaccine-lottery-increase-vaccination-rates-a-preregistered-synthetic-control-study/07720E0BB974962FE4547FF2BCC71CAC*"
   ]
  },
  {
   "cell_type": "markdown",
   "metadata": {},
   "source": [
    "Выбираем данные:"
   ]
  },
  {
   "cell_type": "code",
   "execution_count": 2,
   "metadata": {},
   "outputs": [],
   "source": [
    "data_us_vaccine = pd.read_csv('https://raw.githubusercontent.com/owid/covid-19-data/master/public/data/vaccinations/us_state_vaccinations.csv', parse_dates=['date'])"
   ]
  },
  {
   "cell_type": "code",
   "execution_count": 3,
   "metadata": {},
   "outputs": [],
   "source": [
    "data_usa_vaccine = data_us_vaccine.copy()[['people_vaccinated_per_hundred', 'date', 'location', 'total_vaccinations_per_hundred']]\n",
    "data_usa_vaccine = data_usa_vaccine.query('date <= \"2021-06-23\"').fillna(method = 'ffill')\n",
    "data_usa_vaccine = data_usa_vaccine[~data_usa_vaccine['location'].isin(['Veterans Health', 'District of Columbia', 'Rhode Island', 'Republic of Palau', 'Puerto Rico', 'Northern Mariana Islands', 'Marshall Islands', 'United States', 'American Samoa', 'Bureau of Prisons', 'Dept of Defense', 'Guam', 'Federated States of Micronesia', 'Indian Health Svc', 'Long Term Care'])]"
   ]
  },
  {
   "cell_type": "markdown",
   "metadata": {},
   "source": [
    "Из-за того, что данные аггрегированные и использовать чистый diff-in-diff не получится воспользуемся синтетическим контроллем.\n",
    "\n",
    "*в дальнейшем будет использоваться эта библиотечка*\n",
    "*https://github.com/OscarEngelbrektson/SyntheticControlMethods/*"
   ]
  },
  {
   "cell_type": "code",
   "execution_count": 4,
   "metadata": {},
   "outputs": [],
   "source": [
    "from SyntheticControlMethods import Synth"
   ]
  },
  {
   "cell_type": "code",
   "execution_count": 12,
   "metadata": {},
   "outputs": [],
   "source": [
    "sc = Synth(data_usa_vaccine, \"people_vaccinated_per_hundred\", 'location', 'date', pd.to_datetime('2021-05-12'), 'Ohio', n=100)"
   ]
  },
  {
   "cell_type": "markdown",
   "metadata": {},
   "source": [
    "Как мы видим - есть связь между проведением лотереи и тем, что люди начали меньше вацинироваться - в синтетическом Охайо вакцинация больше, но незначительно."
   ]
  },
  {
   "cell_type": "code",
   "execution_count": 6,
   "metadata": {},
   "outputs": [
    {
     "data": {
      "text/html": [
       "<div>\n",
       "<style scoped>\n",
       "    .dataframe tbody tr th:only-of-type {\n",
       "        vertical-align: middle;\n",
       "    }\n",
       "\n",
       "    .dataframe tbody tr th {\n",
       "        vertical-align: top;\n",
       "    }\n",
       "\n",
       "    .dataframe thead th {\n",
       "        text-align: right;\n",
       "    }\n",
       "</style>\n",
       "<table border=\"1\" class=\"dataframe\">\n",
       "  <thead>\n",
       "    <tr style=\"text-align: right;\">\n",
       "      <th></th>\n",
       "      <th>Ohio</th>\n",
       "      <th>Synthetic Ohio</th>\n",
       "      <th>WMAPE</th>\n",
       "      <th>Importance</th>\n",
       "    </tr>\n",
       "  </thead>\n",
       "  <tbody>\n",
       "    <tr>\n",
       "      <th>people_vaccinated_per_hundred</th>\n",
       "      <td>21.58</td>\n",
       "      <td>22.25</td>\n",
       "      <td>2.28</td>\n",
       "      <td>0.52</td>\n",
       "    </tr>\n",
       "    <tr>\n",
       "      <th>total_vaccinations_per_hundred</th>\n",
       "      <td>34.67</td>\n",
       "      <td>35.63</td>\n",
       "      <td>3.50</td>\n",
       "      <td>0.48</td>\n",
       "    </tr>\n",
       "  </tbody>\n",
       "</table>\n",
       "</div>"
      ],
      "text/plain": [
       "                                 Ohio  Synthetic Ohio  WMAPE  Importance\n",
       "people_vaccinated_per_hundred   21.58           22.25   2.28        0.52\n",
       "total_vaccinations_per_hundred  34.67           35.63   3.50        0.48"
      ]
     },
     "execution_count": 6,
     "metadata": {},
     "output_type": "execute_result"
    }
   ],
   "source": [
    "sc.original_data.comparison_df"
   ]
  },
  {
   "cell_type": "markdown",
   "metadata": {},
   "source": [
    "Весы."
   ]
  },
  {
   "cell_type": "code",
   "execution_count": 7,
   "metadata": {},
   "outputs": [
    {
     "data": {
      "text/html": [
       "<div>\n",
       "<style scoped>\n",
       "    .dataframe tbody tr th:only-of-type {\n",
       "        vertical-align: middle;\n",
       "    }\n",
       "\n",
       "    .dataframe tbody tr th {\n",
       "        vertical-align: top;\n",
       "    }\n",
       "\n",
       "    .dataframe thead th {\n",
       "        text-align: right;\n",
       "    }\n",
       "</style>\n",
       "<table border=\"1\" class=\"dataframe\">\n",
       "  <thead>\n",
       "    <tr style=\"text-align: right;\">\n",
       "      <th></th>\n",
       "      <th>Weight</th>\n",
       "    </tr>\n",
       "  </thead>\n",
       "  <tbody>\n",
       "    <tr>\n",
       "      <th>Alaska</th>\n",
       "      <td>0.043401</td>\n",
       "    </tr>\n",
       "    <tr>\n",
       "      <th>Arizona</th>\n",
       "      <td>0.024728</td>\n",
       "    </tr>\n",
       "    <tr>\n",
       "      <th>Arkansas</th>\n",
       "      <td>0.011159</td>\n",
       "    </tr>\n",
       "    <tr>\n",
       "      <th>Colorado</th>\n",
       "      <td>0.019122</td>\n",
       "    </tr>\n",
       "    <tr>\n",
       "      <th>Connecticut</th>\n",
       "      <td>0.012604</td>\n",
       "    </tr>\n",
       "    <tr>\n",
       "      <th>Delaware</th>\n",
       "      <td>0.016537</td>\n",
       "    </tr>\n",
       "    <tr>\n",
       "      <th>Florida</th>\n",
       "      <td>0.027140</td>\n",
       "    </tr>\n",
       "    <tr>\n",
       "      <th>Georgia</th>\n",
       "      <td>0.022511</td>\n",
       "    </tr>\n",
       "    <tr>\n",
       "      <th>Idaho</th>\n",
       "      <td>0.038847</td>\n",
       "    </tr>\n",
       "    <tr>\n",
       "      <th>Indiana</th>\n",
       "      <td>0.031010</td>\n",
       "    </tr>\n",
       "    <tr>\n",
       "      <th>Iowa</th>\n",
       "      <td>0.020651</td>\n",
       "    </tr>\n",
       "    <tr>\n",
       "      <th>Kentucky</th>\n",
       "      <td>0.014238</td>\n",
       "    </tr>\n",
       "    <tr>\n",
       "      <th>Louisiana</th>\n",
       "      <td>0.039208</td>\n",
       "    </tr>\n",
       "    <tr>\n",
       "      <th>Michigan</th>\n",
       "      <td>0.019359</td>\n",
       "    </tr>\n",
       "    <tr>\n",
       "      <th>Minnesota</th>\n",
       "      <td>0.013985</td>\n",
       "    </tr>\n",
       "    <tr>\n",
       "      <th>Mississippi</th>\n",
       "      <td>0.018580</td>\n",
       "    </tr>\n",
       "    <tr>\n",
       "      <th>Missouri</th>\n",
       "      <td>0.033813</td>\n",
       "    </tr>\n",
       "    <tr>\n",
       "      <th>Montana</th>\n",
       "      <td>0.028673</td>\n",
       "    </tr>\n",
       "    <tr>\n",
       "      <th>Nebraska</th>\n",
       "      <td>0.025354</td>\n",
       "    </tr>\n",
       "    <tr>\n",
       "      <th>Nevada</th>\n",
       "      <td>0.023035</td>\n",
       "    </tr>\n",
       "    <tr>\n",
       "      <th>New Mexico</th>\n",
       "      <td>0.022569</td>\n",
       "    </tr>\n",
       "    <tr>\n",
       "      <th>New York State</th>\n",
       "      <td>0.021434</td>\n",
       "    </tr>\n",
       "    <tr>\n",
       "      <th>North Carolina</th>\n",
       "      <td>0.022220</td>\n",
       "    </tr>\n",
       "    <tr>\n",
       "      <th>North Dakota</th>\n",
       "      <td>0.057376</td>\n",
       "    </tr>\n",
       "    <tr>\n",
       "      <th>Oklahoma</th>\n",
       "      <td>0.030093</td>\n",
       "    </tr>\n",
       "    <tr>\n",
       "      <th>Oregon</th>\n",
       "      <td>0.015339</td>\n",
       "    </tr>\n",
       "    <tr>\n",
       "      <th>South Carolina</th>\n",
       "      <td>0.020558</td>\n",
       "    </tr>\n",
       "    <tr>\n",
       "      <th>South Dakota</th>\n",
       "      <td>0.033457</td>\n",
       "    </tr>\n",
       "    <tr>\n",
       "      <th>Tennessee</th>\n",
       "      <td>0.025377</td>\n",
       "    </tr>\n",
       "    <tr>\n",
       "      <th>Texas</th>\n",
       "      <td>0.023185</td>\n",
       "    </tr>\n",
       "    <tr>\n",
       "      <th>Utah</th>\n",
       "      <td>0.040188</td>\n",
       "    </tr>\n",
       "    <tr>\n",
       "      <th>Virgin Islands</th>\n",
       "      <td>0.017724</td>\n",
       "    </tr>\n",
       "    <tr>\n",
       "      <th>Washington</th>\n",
       "      <td>0.019012</td>\n",
       "    </tr>\n",
       "    <tr>\n",
       "      <th>West Virginia</th>\n",
       "      <td>0.028073</td>\n",
       "    </tr>\n",
       "    <tr>\n",
       "      <th>Wisconsin</th>\n",
       "      <td>0.028411</td>\n",
       "    </tr>\n",
       "    <tr>\n",
       "      <th>Wyoming</th>\n",
       "      <td>0.043021</td>\n",
       "    </tr>\n",
       "  </tbody>\n",
       "</table>\n",
       "</div>"
      ],
      "text/plain": [
       "                  Weight\n",
       "Alaska          0.043401\n",
       "Arizona         0.024728\n",
       "Arkansas        0.011159\n",
       "Colorado        0.019122\n",
       "Connecticut     0.012604\n",
       "Delaware        0.016537\n",
       "Florida         0.027140\n",
       "Georgia         0.022511\n",
       "Idaho           0.038847\n",
       "Indiana         0.031010\n",
       "Iowa            0.020651\n",
       "Kentucky        0.014238\n",
       "Louisiana       0.039208\n",
       "Michigan        0.019359\n",
       "Minnesota       0.013985\n",
       "Mississippi     0.018580\n",
       "Missouri        0.033813\n",
       "Montana         0.028673\n",
       "Nebraska        0.025354\n",
       "Nevada          0.023035\n",
       "New Mexico      0.022569\n",
       "New York State  0.021434\n",
       "North Carolina  0.022220\n",
       "North Dakota    0.057376\n",
       "Oklahoma        0.030093\n",
       "Oregon          0.015339\n",
       "South Carolina  0.020558\n",
       "South Dakota    0.033457\n",
       "Tennessee       0.025377\n",
       "Texas           0.023185\n",
       "Utah            0.040188\n",
       "Virgin Islands  0.017724\n",
       "Washington      0.019012\n",
       "West Virginia   0.028073\n",
       "Wisconsin       0.028411\n",
       "Wyoming         0.043021"
      ]
     },
     "execution_count": 7,
     "metadata": {},
     "output_type": "execute_result"
    }
   ],
   "source": [
    "sc.original_data.weight_df"
   ]
  },
  {
   "cell_type": "markdown",
   "metadata": {},
   "source": [
    "Для достоверности проведем плацебо тест."
   ]
  },
  {
   "cell_type": "code",
   "execution_count": 13,
   "metadata": {},
   "outputs": [
    {
     "data": {
      "image/png": "[encoded data removed]",
      "text/plain": [
       "<Figure size 1080x864 with 1 Axes>"
      ]
     },
     "metadata": {
      "needs_background": "light"
     },
     "output_type": "display_data"
    }
   ],
   "source": [
    "sc.in_time_placebo(pd.to_datetime('2021-03-01'))\n",
    "sc.plot(['in-time placebo'])"
   ]
  }
 ],
 "metadata": {
  "interpreter": {
   "hash": "febbce831b1ef825e77a13aa7ca8a78faa9c38b9d9541fd425d61396fdebca9c"
  },
  "kernelspec": {
   "display_name": "Python 3.9.1 64-bit",
   "language": "python",
   "name": "python3"
  },
  "language_info": {
   "codemirror_mode": {
    "name": "ipython",
    "version": 3
   },
   "file_extension": ".py",
   "mimetype": "text/x-python",
   "name": "python",
   "nbconvert_exporter": "python",
   "pygments_lexer": "ipython3",
   "version": "3.9.1"
  },
  "orig_nbformat": 4
 },
 "nbformat": 4,
 "nbformat_minor": 2
}
